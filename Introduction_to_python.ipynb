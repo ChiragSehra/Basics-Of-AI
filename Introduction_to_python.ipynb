{
 "cells": [
  {
   "cell_type": "markdown",
   "metadata": {},
   "source": [
    "# This notebook contains basics to Python"
   ]
  },
  {
   "cell_type": "code",
   "execution_count": 1,
   "metadata": {},
   "outputs": [
    {
     "name": "stdout",
     "output_type": "stream",
     "text": [
      "<class 'int'>\n",
      "This is a string\n",
      "<class 'str'>\n",
      "This isa new string\n",
      "----------------------------------------------------------------------\n",
      "16\n",
      "this is a string\n",
      "['thi', ' i', ' a ', 'tring']\n"
     ]
    }
   ],
   "source": [
    "# Integers , Strings\n",
    "#creating a varibale\n",
    "variable = 1\n",
    "\n",
    "print(type(variable))      # data type of the variable is printed\n",
    "\n",
    "variable = 'This is a string'\n",
    "print(variable)\n",
    "print(type(variable))\n",
    "\n",
    "#for concatenation of strings we can use the addition sign i.e. '+'\n",
    "print ('This is' + 'a new string')\n",
    "\n",
    "#printing the same element for a numbre of times you can use '*'\n",
    "print('-'*70)\n",
    "\n",
    "string = 'THis Is a StriNG'\n",
    "\n",
    "# some built-in functions of strings \n",
    "print(string.__len__())\n",
    "\n",
    "print(string.lower())\n",
    "\n",
    "print(string.lower().split('s'))  # lower() is used to convert the string into small alphabets  and split() is used to split the string about any token say 's' that is encountered in the string"
   ]
  },
  {
   "cell_type": "code",
   "execution_count": 16,
   "metadata": {},
   "outputs": [
    {
     "name": "stdout",
     "output_type": "stream",
     "text": [
      "[1, 'se', 2.3, [1, 2, '89'], 8.9]\n",
      "8.9\n",
      "89\n",
      "97\n",
      "d\n",
      "****************************************************************************************************\n",
      "[[2, 20], [4, 5], [1.3], [0, -1]]\n",
      "[[0, -1], [1.3], [2, 20], [4, 5]]\n"
     ]
    }
   ],
   "source": [
    "# Lists\n",
    "\n",
    "# Lists can have elements of different datatypes \n",
    "l = [1,'se',2.3,[1,2,'89'],8.9]\n",
    "\n",
    "#printing the list\n",
    "print(l)\n",
    "\n",
    "# to print the last element of list you can use -1. '-1' denotes the index of last element\n",
    "print(l[-1])\n",
    "\n",
    "# to print the element of list inside the list say '89' we can do it like\n",
    "print(l[3][2])\n",
    "\n",
    "# printing the ASCII value of any alphabet\n",
    "print(ord('a'))\n",
    "\n",
    "# similarly printing the char value of ASCII number\n",
    "print(chr(100))\n",
    "\n",
    "print('*'*100)\n",
    "\n",
    "\n",
    "#let nums be list containing lists\n",
    "\n",
    "nums = [[2,20],[4,5],[1.3],[0,-1]]\n",
    "print(nums)\n",
    "\n",
    "\n",
    "print(sorted(nums)) # default based on 0th index\n",
    "\n"
   ]
  },
  {
   "cell_type": "code",
   "execution_count": 25,
   "metadata": {},
   "outputs": [
    {
     "name": "stdout",
     "output_type": "stream",
     "text": [
      "{2: 'abc', 'p': 0.1, 'q': [0, {0: 20, 'k': 120}]}\n",
      "ababab\n",
      "dict_values([132, 'abc', 0.1, [0, {0: 20, 'k': 120}], 'ababab'])\n",
      "dict_keys(['aaa', 2, 'p', 'q', 'my'])\n"
     ]
    }
   ],
   "source": [
    "# Dictionaries\n",
    "d = {\n",
    "    2:'abc',\n",
    "    'p': 0.1,\n",
    "    'q': [0,{0:20, 'k':120}]\n",
    "}\n",
    "\n",
    "# you can insert any kind of datatype fror lists and dictionaries\n",
    "\n",
    "#printing the dictionary\n",
    "print(d)\n",
    "\n",
    "# changing the default value of a variable\n",
    "print(d.setdefault('my','ababab'))\n",
    "\n",
    "# changing value\n",
    "d['aaa'] = 132\n",
    "\n",
    "#printing the dictionary values\n",
    "print (d.values())\n",
    "\n",
    "#printing the dictionary keys\n",
    "print(d.keys())"
   ]
  },
  {
   "cell_type": "code",
   "execution_count": 37,
   "metadata": {},
   "outputs": [
    {
     "name": "stdout",
     "output_type": "stream",
     "text": [
      "(1, 2, 3)\n",
      "{1, 2, 3, 4, 5, 54, 23}\n",
      "{0, 2, 99, 3, 4, -1}\n"
     ]
    }
   ],
   "source": [
    "# Tuples\n",
    "t = (1,2,3)\n",
    "\n",
    "#prinitng the tuple\n",
    "print(t)\n",
    "\n",
    "# Sets\n",
    "p = set([1,4,3,2,2,3,4,5,5,2,5,3,54,2,54,23,5])\n",
    "q = set([-1,0,4,3,2,3,2,99])\n",
    "\n",
    "print(p)\n",
    "print(q)"
   ]
  },
  {
   "cell_type": "code",
   "execution_count": 50,
   "metadata": {},
   "outputs": [
    {
     "name": "stdout",
     "output_type": "stream",
     "text": [
      "PP\n"
     ]
    }
   ],
   "source": [
    "#Else-If Condition\n",
    "\n",
    "x = 100\n",
    "if x< 5 and x>20:\n",
    "    print(\"HH\")\n",
    "elif x>=12 and x<20:\n",
    "    print(\"GG\")\n",
    "else:\n",
    "    print(\"PP\")"
   ]
  },
  {
   "cell_type": "code",
   "execution_count": 61,
   "metadata": {},
   "outputs": [
    {
     "name": "stdout",
     "output_type": "stream",
     "text": [
      "0 1\n",
      "1 se\n",
      "2 2.3\n",
      "3 [1, 2, '89']\n",
      "4 8.9\n",
      "1\n",
      "se\n",
      "2.3\n",
      "[1, 2, '89']\n",
      "8.9\n",
      ";);););););););););););););););););););););););););););););););););););););););););););););););););)\n",
      "0\n",
      "1\n",
      "2\n",
      "3\n",
      "4\n",
      "5\n",
      "6\n",
      "7\n",
      "8\n",
      "9\n"
     ]
    }
   ],
   "source": [
    "# Loops\n",
    "for ix in range(len(l)):\n",
    "    print (ix, l[ix])\n",
    "\n",
    "for ix in l:\n",
    "    print (ix)\n",
    "    \n",
    "print(';)'*50)\n",
    "\n",
    "j = 0\n",
    "while j<10:\n",
    "    print(j)\n",
    "    j+=1"
   ]
  },
  {
   "cell_type": "code",
   "execution_count": 63,
   "metadata": {},
   "outputs": [
    {
     "name": "stdout",
     "output_type": "stream",
     "text": [
      "1\n",
      "2\n",
      "Fizz\n",
      "4\n",
      "Buzz\n",
      "Fizz\n",
      "7\n",
      "8\n",
      "Fizz\n",
      "Buzz\n",
      "11\n",
      "Fizz\n",
      "13\n",
      "14\n",
      "FizzBuzz\n",
      "16\n",
      "17\n",
      "Fizz\n",
      "19\n",
      "Buzz\n",
      "Fizz\n",
      "22\n",
      "23\n",
      "Fizz\n",
      "Buzz\n",
      "26\n",
      "Fizz\n",
      "28\n",
      "29\n"
     ]
    }
   ],
   "source": [
    "# FizzBuzz Challenge \n",
    "'''For numbers between 0 to 30 that are divisible by 3 and 5 print \"Fizzbuzz\" elseif it is divisible by 3 print \"Fizz\" else if divided by 5 print \"Buzz\" and for left number print the number itself '''\n",
    "\n",
    "l = range(1,30)\n",
    "\n",
    "for ix in l:\n",
    "    if ix % 3 == 0:\n",
    "        if ix % 5 ==0:\n",
    "            print(\"FizzBuzz\")\n",
    "        else:\n",
    "            print(\"Fizz\")\n",
    "    else:\n",
    "        if ix % 5 ==0:\n",
    "            print(\"Buzz\")\n",
    "        else:\n",
    "            print(ix)"
   ]
  },
  {
   "cell_type": "code",
   "execution_count": 69,
   "metadata": {},
   "outputs": [
    {
     "name": "stdout",
     "output_type": "stream",
     "text": [
      "(2.02, 45)\n",
      "{'b': 45, 'a': 10, 'pq': -3}\n",
      "None\n"
     ]
    }
   ],
   "source": [
    "# defining functions\n",
    "def avg(*args,**kwargs):\n",
    "    print (args)\n",
    "    print(kwargs)\n",
    "\n",
    "print(avg(2.02, 45, a=10, b=45, pq = -3))"
   ]
  },
  {
   "cell_type": "code",
   "execution_count": 70,
   "metadata": {},
   "outputs": [
    {
     "name": "stdout",
     "output_type": "stream",
     "text": [
      "2.23606797749979\n"
     ]
    }
   ],
   "source": [
    "# importing libraries\n",
    "from math import sqrt as sq  # square root function in aliased as sq\n",
    "print (sq(5))"
   ]
  },
  {
   "cell_type": "code",
   "execution_count": 82,
   "metadata": {},
   "outputs": [],
   "source": [
    "# Creating classes\n",
    "\n",
    "class MyClass:\n",
    "    \n",
    "    x= 100\n",
    "    def __init__(self, x=1, t=10):  #constructor\n",
    "        self.x = x\n",
    "        self.t = t\n",
    "        \n",
    "    def new_a(self, a =90):\n",
    "        self.a = a\n",
    "        \n",
    "    def squareself(self):\n",
    "        self.x = x\n",
    "        self.t = t\n",
    "        self.a = a\n",
    "        \n",
    "    def divide(self,p):\n",
    "        self.squareself()\n",
    "        return p/(self.x)+ p/(self.t) + p/(self.a)"
   ]
  },
  {
   "cell_type": "code",
   "execution_count": 86,
   "metadata": {},
   "outputs": [
    {
     "name": "stdout",
     "output_type": "stream",
     "text": [
      "<__main__.MyClass object at 0x00000215F1F6AB70>\n",
      "1\n",
      "10\n"
     ]
    }
   ],
   "source": [
    "# creating new object\n",
    "z = MyClass()\n",
    "\n",
    "#class object\n",
    "print(z)\n",
    "\n",
    "#accessing the variable of class through object\n",
    "print(z.x)\n",
    "\n",
    "print(z.t)\n",
    "\n",
    "#calling function of class\n",
    "z.new_a()\n"
   ]
  },
  {
   "cell_type": "code",
   "execution_count": null,
   "metadata": {},
   "outputs": [],
   "source": []
  },
  {
   "cell_type": "code",
   "execution_count": null,
   "metadata": {},
   "outputs": [],
   "source": []
  },
  {
   "cell_type": "code",
   "execution_count": null,
   "metadata": {},
   "outputs": [],
   "source": []
  }
 ],
 "metadata": {
  "kernelspec": {
   "display_name": "Python 3",
   "language": "python",
   "name": "python3"
  },
  "language_info": {
   "codemirror_mode": {
    "name": "ipython",
    "version": 3
   },
   "file_extension": ".py",
   "mimetype": "text/x-python",
   "name": "python",
   "nbconvert_exporter": "python",
   "pygments_lexer": "ipython3",
   "version": "3.5.4"
  }
 },
 "nbformat": 4,
 "nbformat_minor": 2
}
